{
 "cells": [
  {
   "cell_type": "markdown",
   "id": "f7d5ecc6-aee6-4c97-bdf0-fb09e58c37a7",
   "metadata": {},
   "source": [
    "Q1. Explain why we have to use the Exception class while creating a Custom Exception.\n",
    "Note: Here Exception class refers to the base class for all the exceptions."
   ]
  },
  {
   "cell_type": "markdown",
   "id": "09fc648b-515d-42ef-b426-14d12a6c75f5",
   "metadata": {},
   "source": [
    "When creating a custom exception in most programming languages, including Python, it is recommended to derive the custom exception class from the base Exception class or a subclass of it. Here's why:\n",
    "\n",
    "1. Consistency and Compatibility: Deriving from the Exception class ensures that your custom exception follows the established conventions and patterns used by other exceptions in the language. This consistency makes it easier for other developers to understand and use your custom exception. Additionally, it allows your custom exception to be compatible with existing exception handling mechanisms and frameworks.\n",
    "\n",
    "2. Inheritance of Exception Handling Mechanisms: The Exception class (or its subclasses) provides built-in mechanisms for handling and propagating exceptions. By deriving from the Exception class, your custom exception can inherit these mechanisms. This includes features like stack trace information, raising and catching exceptions, traceback printing, and exception chaining. By leveraging these features, you can ensure that your custom exception behaves consistently with other exceptions in the language.\n",
    "\n",
    "3. Catching and Handling: When you create a custom exception, you typically want to catch and handle it in a specific way. Deriving from the Exception class allows you to catch your custom exception using a catch block that targets the base Exception class. This means you can handle your custom exception along with other standard exceptions using the same exception handling code.\n",
    "\n",
    "4. Documentation and Discoverability: Deriving from the Exception class also helps with documentation and discoverability. When other developers encounter your custom exception, they can easily recognize it as an exception class due to its inheritance from the Exception class. They can refer to the base class documentation and guidelines to understand how to handle your custom exception.\n",
    "\n",
    "Overall, using the Exception class as the base class for your custom exception provides consistency, compatibility, inheritance of exception handling mechanisms, and enhances the readability and understandability of your code for other developers."
   ]
  },
  {
   "cell_type": "raw",
   "id": "d395296c-d7bb-4095-834b-a1edf9b1d86e",
   "metadata": {},
   "source": []
  },
  {
   "cell_type": "raw",
   "id": "991dcc3c-88a1-4259-a94f-23af10ab43c0",
   "metadata": {},
   "source": []
  },
  {
   "cell_type": "markdown",
   "id": "4c6648b4-a682-449f-a988-f8d0ca9e9be3",
   "metadata": {},
   "source": [
    "Q2. Write a python program to print Python Exception Hierarchy."
   ]
  },
  {
   "cell_type": "code",
   "execution_count": 2,
   "id": "503af33d-410d-41af-99e1-4c5f965e263b",
   "metadata": {},
   "outputs": [
    {
     "name": "stdout",
     "output_type": "stream",
     "text": [
      "Exception\n",
      "    TypeError\n",
      "        FloatOperation\n",
      "        MultipartConversionError\n",
      "    StopAsyncIteration\n",
      "    StopIteration\n",
      "    ImportError\n",
      "        ModuleNotFoundError\n",
      "        ZipImportError\n",
      "    OSError\n",
      "        ConnectionError\n",
      "            BrokenPipeError\n",
      "            ConnectionAbortedError\n",
      "            ConnectionRefusedError\n",
      "            ConnectionResetError\n",
      "                RemoteDisconnected\n",
      "        BlockingIOError\n",
      "        ChildProcessError\n",
      "        FileExistsError\n",
      "        FileNotFoundError\n",
      "        IsADirectoryError\n",
      "        NotADirectoryError\n",
      "        InterruptedError\n",
      "            InterruptedSystemCall\n",
      "        PermissionError\n",
      "        ProcessLookupError\n",
      "        TimeoutError\n",
      "        UnsupportedOperation\n",
      "        itimer_error\n",
      "        herror\n",
      "        gaierror\n",
      "        SSLError\n",
      "            SSLCertVerificationError\n",
      "            SSLZeroReturnError\n",
      "            SSLWantWriteError\n",
      "            SSLWantReadError\n",
      "            SSLSyscallError\n",
      "            SSLEOFError\n",
      "        Error\n",
      "            SameFileError\n",
      "        SpecialFileError\n",
      "        ExecError\n",
      "        ReadError\n",
      "        URLError\n",
      "            HTTPError\n",
      "            ContentTooShortError\n",
      "        BadGzipFile\n",
      "    EOFError\n",
      "        IncompleteReadError\n",
      "    RuntimeError\n",
      "        RecursionError\n",
      "        NotImplementedError\n",
      "            ZMQVersionError\n",
      "            StdinNotImplementedError\n",
      "        _DeadlockError\n",
      "        BrokenBarrierError\n",
      "        BrokenExecutor\n",
      "            BrokenThreadPool\n",
      "        SendfileNotAvailableError\n",
      "        ExtractionError\n",
      "        VariableError\n",
      "    NameError\n",
      "        UnboundLocalError\n",
      "    AttributeError\n",
      "        FrozenInstanceError\n",
      "    SyntaxError\n",
      "        IndentationError\n",
      "            TabError\n",
      "    LookupError\n",
      "        IndexError\n",
      "        KeyError\n",
      "            NoSuchKernel\n",
      "            UnknownBackend\n",
      "        CodecRegistryError\n",
      "    ValueError\n",
      "        UnicodeError\n",
      "            UnicodeEncodeError\n",
      "            UnicodeDecodeError\n",
      "            UnicodeTranslateError\n",
      "        UnsupportedOperation\n",
      "        JSONDecodeError\n",
      "        SSLCertVerificationError\n",
      "        Error\n",
      "        UnsupportedDigestmodError\n",
      "        IllegalMonthError\n",
      "        IllegalWeekdayError\n",
      "        ParserError\n",
      "        ClassNotFound\n",
      "        ClipboardEmpty\n",
      "        MessageDefect\n",
      "            NoBoundaryInMultipartDefect\n",
      "            StartBoundaryNotFoundDefect\n",
      "            CloseBoundaryNotFoundDefect\n",
      "            FirstHeaderLineIsContinuationDefect\n",
      "            MisplacedEnvelopeHeaderDefect\n",
      "            MissingHeaderBodySeparatorDefect\n",
      "            MultipartInvariantViolationDefect\n",
      "            InvalidMultipartContentTransferEncodingDefect\n",
      "            UndecodableBytesDefect\n",
      "            InvalidBase64PaddingDefect\n",
      "            InvalidBase64CharactersDefect\n",
      "            InvalidBase64LengthDefect\n",
      "            HeaderDefect\n",
      "                InvalidHeaderDefect\n",
      "                HeaderMissingRequiredValue\n",
      "                NonPrintableDefect\n",
      "                ObsoleteHeaderDefect\n",
      "                NonASCIILocalPartDefect\n",
      "                InvalidDateDefect\n",
      "        MacroToEdit\n",
      "        InvalidFileException\n",
      "        UnequalIterablesError\n",
      "        InvalidVersion\n",
      "        _InvalidELFFileHeader\n",
      "        InvalidWheelFilename\n",
      "        InvalidSdistFilename\n",
      "        InvalidSpecifier\n",
      "        InvalidMarker\n",
      "        UndefinedComparison\n",
      "        UndefinedEnvironmentName\n",
      "        InvalidRequirement\n",
      "            RequirementParseError\n",
      "        InvalidVersion\n",
      "    AssertionError\n",
      "    ArithmeticError\n",
      "        FloatingPointError\n",
      "        OverflowError\n",
      "        ZeroDivisionError\n",
      "            DivisionByZero\n",
      "            DivisionUndefined\n",
      "        DecimalException\n",
      "            Clamped\n",
      "            Rounded\n",
      "                Underflow\n",
      "                Overflow\n",
      "            Inexact\n",
      "                Underflow\n",
      "                Overflow\n",
      "            Subnormal\n",
      "                Underflow\n",
      "            DivisionByZero\n",
      "            FloatOperation\n",
      "            InvalidOperation\n",
      "                ConversionSyntax\n",
      "                DivisionImpossible\n",
      "                DivisionUndefined\n",
      "                InvalidContext\n",
      "    SystemError\n",
      "        CodecRegistryError\n",
      "    ReferenceError\n",
      "    MemoryError\n",
      "    BufferError\n",
      "    Warning\n",
      "        UserWarning\n",
      "            GetPassWarning\n",
      "            FormatterWarning\n",
      "        EncodingWarning\n",
      "        DeprecationWarning\n",
      "            ProvisionalWarning\n",
      "        PendingDeprecationWarning\n",
      "        SyntaxWarning\n",
      "        RuntimeWarning\n",
      "            ProactorSelectorThreadWarning\n",
      "            UnknownTimezoneWarning\n",
      "            PEP440Warning\n",
      "        FutureWarning\n",
      "            ProvisionalCompleterWarning\n",
      "        ImportWarning\n",
      "        UnicodeWarning\n",
      "        BytesWarning\n",
      "        ResourceWarning\n",
      "        DeprecatedTzFormatWarning\n",
      "        PkgResourcesDeprecationWarning\n",
      "    _OptionError\n",
      "    _Error\n",
      "    error\n",
      "    Verbose\n",
      "    Error\n",
      "    SubprocessError\n",
      "        CalledProcessError\n",
      "        TimeoutExpired\n",
      "    TokenError\n",
      "    StopTokenizing\n",
      "    ClassFoundException\n",
      "    EndOfBlock\n",
      "    TraitError\n",
      "    Error\n",
      "    Error\n",
      "        CancelledError\n",
      "        TimeoutError\n",
      "        InvalidStateError\n",
      "    _GiveupOnSendfile\n",
      "    error\n",
      "    Incomplete\n",
      "    TimeoutError\n",
      "    InvalidStateError\n",
      "    LimitOverrunError\n",
      "    QueueEmpty\n",
      "    QueueFull\n",
      "    Empty\n",
      "    Full\n",
      "    ArgumentError\n",
      "    ZMQBaseError\n",
      "        ZMQError\n",
      "            ContextTerminated\n",
      "            Again\n",
      "            InterruptedSystemCall\n",
      "        ZMQBindError\n",
      "        NotDone\n",
      "    PickleError\n",
      "        PicklingError\n",
      "        UnpicklingError\n",
      "    _Stop\n",
      "    ArgumentError\n",
      "    ArgumentTypeError\n",
      "    ConfigError\n",
      "        ConfigLoaderError\n",
      "            ArgumentError\n",
      "        ConfigFileNotFound\n",
      "    ConfigurableError\n",
      "        MultipleInstanceError\n",
      "    ApplicationError\n",
      "    error\n",
      "    TimeoutError\n",
      "    error\n",
      "    ReturnValueIgnoredError\n",
      "    KeyReuseError\n",
      "    UnknownKeyError\n",
      "    LeakedCallbackError\n",
      "    BadYieldError\n",
      "    ReturnValueIgnoredError\n",
      "    Return\n",
      "    InvalidPortNumber\n",
      "    error\n",
      "    LZMAError\n",
      "    RegistryError\n",
      "    _GiveupOnFastCopy\n",
      "    Error\n",
      "        NoSectionError\n",
      "        DuplicateSectionError\n",
      "        DuplicateOptionError\n",
      "        NoOptionError\n",
      "        InterpolationError\n",
      "            InterpolationMissingOptionError\n",
      "            InterpolationSyntaxError\n",
      "            InterpolationDepthError\n",
      "        ParsingError\n",
      "            MissingSectionHeaderError\n",
      "    NoIPAddresses\n",
      "    BadZipFile\n",
      "    LargeZipFile\n",
      "    BadEntryPoint\n",
      "    NoSuchEntryPoint\n",
      "    DuplicateKernelError\n",
      "    ErrorDuringImport\n",
      "    NotOneValueFound\n",
      "    CannotEval\n",
      "    OptionError\n",
      "    BdbQuit\n",
      "    Restart\n",
      "    ExceptionPexpect\n",
      "        EOF\n",
      "        TIMEOUT\n",
      "    PtyProcessError\n",
      "    FindCmdError\n",
      "    HomeDirError\n",
      "    ProfileDirError\n",
      "    IPythonCoreError\n",
      "        TryNext\n",
      "        UsageError\n",
      "        StdinNotImplementedError\n",
      "    InputRejected\n",
      "    GetoptError\n",
      "    ErrorToken\n",
      "    PrefilterError\n",
      "    AliasError\n",
      "        InvalidAliasError\n",
      "    Error\n",
      "        InterfaceError\n",
      "        DatabaseError\n",
      "            InternalError\n",
      "            OperationalError\n",
      "            ProgrammingError\n",
      "            IntegrityError\n",
      "            DataError\n",
      "            NotSupportedError\n",
      "    Warning\n",
      "    SpaceInInput\n",
      "    DOMException\n",
      "        IndexSizeErr\n",
      "        DomstringSizeErr\n",
      "        HierarchyRequestErr\n",
      "        WrongDocumentErr\n",
      "        InvalidCharacterErr\n",
      "        NoDataAllowedErr\n",
      "        NoModificationAllowedErr\n",
      "        NotFoundErr\n",
      "        NotSupportedErr\n",
      "        InuseAttributeErr\n",
      "        InvalidStateErr\n",
      "        SyntaxErr\n",
      "        InvalidModificationErr\n",
      "        NamespaceErr\n",
      "        InvalidAccessErr\n",
      "        ValidationErr\n",
      "    ValidationError\n",
      "    EditReadOnlyBuffer\n",
      "    _Retry\n",
      "    InvalidLayoutError\n",
      "    HeightIsUnknownError\n",
      "    ParserSyntaxError\n",
      "    InternalParseError\n",
      "    _PositionUpdatingFinished\n",
      "    SimpleGetItemNotFound\n",
      "    UncaughtAttributeError\n",
      "    HasNoContext\n",
      "    ParamIssue\n",
      "    _JediError\n",
      "        InternalError\n",
      "        WrongVersion\n",
      "        RefactoringError\n",
      "    OnErrorLeaf\n",
      "    InvalidPythonEnvironment\n",
      "    MessageError\n",
      "        MessageParseError\n",
      "            HeaderParseError\n",
      "            BoundaryError\n",
      "        MultipartConversionError\n",
      "        CharsetError\n",
      "    Error\n",
      "    HTTPException\n",
      "        NotConnected\n",
      "        InvalidURL\n",
      "        UnknownProtocol\n",
      "        UnknownTransferEncoding\n",
      "        UnimplementedFileMode\n",
      "        IncompleteRead\n",
      "        ImproperConnectionState\n",
      "            CannotSendRequest\n",
      "            CannotSendHeader\n",
      "            ResponseNotReady\n",
      "        BadStatusLine\n",
      "            RemoteDisconnected\n",
      "        LineTooLong\n",
      "    InteractivelyDefined\n",
      "    KillEmbedded\n",
      "    Error\n",
      "        NoSuchProcess\n",
      "            ZombieProcess\n",
      "        AccessDenied\n",
      "        TimeoutExpired\n",
      "    _Ipv6UnsupportedError\n",
      "    QueueEmpty\n",
      "    QueueFull\n",
      "    DebuggerInitializationError\n",
      "    ExpatError\n",
      "    Error\n",
      "        ProtocolError\n",
      "        ResponseError\n",
      "        Fault\n",
      "    ParseBaseException\n",
      "        ParseException\n",
      "        ParseFatalException\n",
      "            ParseSyntaxException\n",
      "    RecursiveGrammarException\n",
      "    ResolutionError\n",
      "        VersionConflict\n",
      "            ContextualVersionConflict\n",
      "        DistributionNotFound\n",
      "        UnknownExtra\n",
      "    _Error\n",
      "    UnableToResolveVariableException\n",
      "    InvalidTypeInArgsException\n"
     ]
    }
   ],
   "source": [
    "def print_exception_hierarchy(exception_class, indent=0):\n",
    "    print(' ' * indent + exception_class.__name__)\n",
    "    for subclass in exception_class.__subclasses__():\n",
    "        print_exception_hierarchy(subclass, indent + 4)\n",
    "\n",
    "\n",
    "# Print the exception hierarchy starting from the base Exception class\n",
    "print_exception_hierarchy(Exception)\n"
   ]
  },
  {
   "cell_type": "raw",
   "id": "ad625dc5-5b8d-4390-8178-8047042deea6",
   "metadata": {},
   "source": []
  },
  {
   "cell_type": "raw",
   "id": "f35ef8a2-de2d-404b-867d-8f87ecaba9e4",
   "metadata": {},
   "source": []
  },
  {
   "cell_type": "markdown",
   "id": "425cf946-a760-4e41-90db-bf631d786cd3",
   "metadata": {},
   "source": [
    "Q3. What errors are defined in the ArithmeticError class? Explain any two with an example."
   ]
  },
  {
   "cell_type": "markdown",
   "id": "42c830af-4a73-4d45-a1a0-ec465a50d39e",
   "metadata": {},
   "source": [
    "The `ArithmeticError` class in Python is a base class for all errors related to arithmetic operations. It itself is not meant to be directly raised but serves as a parent class for more specific arithmetic-related error classes. Here are two examples of errors that are defined as subclasses of `ArithmeticError`:\n",
    "\n",
    "1. `ZeroDivisionError`: This error occurs when a division or modulo operation is performed with a divisor of zero. It is raised to indicate that an arithmetic operation attempted to divide a number by zero, which is mathematically undefined. Here's an example:\n",
    "\n",
    "\n",
    "\n",
    "\n",
    "\n"
   ]
  },
  {
   "cell_type": "code",
   "execution_count": 3,
   "id": "6e7757d5-697e-4119-b2d4-cb31afe843c4",
   "metadata": {},
   "outputs": [
    {
     "name": "stdout",
     "output_type": "stream",
     "text": [
      "Error: division by zero\n"
     ]
    }
   ],
   "source": [
    "try:\n",
    "    result = 10 / 0\n",
    "except ZeroDivisionError as e:\n",
    "    print(\"Error:\", e)\n"
   ]
  },
  {
   "cell_type": "markdown",
   "id": "b6bd7c61-9d0c-4634-95e4-25e1ab06ca5f",
   "metadata": {},
   "source": [
    "2. `OverflowError`: This error is raised when the result of an arithmetic operation exceeds the maximum representable value in a numeric type. It occurs when a calculation produces a value that is too large to be stored in the given data type. Here's an example:\n",
    "\n",
    "\n",
    "\n"
   ]
  },
  {
   "cell_type": "code",
   "execution_count": 19,
   "id": "f20e3707-5044-4799-a16a-b454822990a3",
   "metadata": {},
   "outputs": [
    {
     "name": "stdout",
     "output_type": "stream",
     "text": [
      "Simple program for showing overflow error\n",
      "\n",
      "\n",
      "The exponential value is\n"
     ]
    },
    {
     "ename": "OverflowError",
     "evalue": "math range error",
     "output_type": "error",
     "traceback": [
      "\u001b[0;31m---------------------------------------------------------------------------\u001b[0m",
      "\u001b[0;31mOverflowError\u001b[0m                             Traceback (most recent call last)",
      "Cell \u001b[0;32mIn[19], line 5\u001b[0m\n\u001b[1;32m      3\u001b[0m \u001b[38;5;28;01mimport\u001b[39;00m \u001b[38;5;21;01mmath\u001b[39;00m\n\u001b[1;32m      4\u001b[0m \u001b[38;5;28mprint\u001b[39m(\u001b[38;5;124m\"\u001b[39m\u001b[38;5;124mThe exponential value is\u001b[39m\u001b[38;5;124m\"\u001b[39m)\n\u001b[0;32m----> 5\u001b[0m \u001b[38;5;28mprint\u001b[39m(\u001b[43mmath\u001b[49m\u001b[38;5;241;43m.\u001b[39;49m\u001b[43mexp\u001b[49m\u001b[43m(\u001b[49m\u001b[38;5;241;43m1000\u001b[39;49m\u001b[43m)\u001b[49m)\n",
      "\u001b[0;31mOverflowError\u001b[0m: math range error"
     ]
    }
   ],
   "source": [
    "print(\"Simple program for showing overflow error\")\n",
    "print(\"\\n\")\n",
    "import math\n",
    "print(\"The exponential value is\")\n",
    "print(math.exp(1000))\n",
    "\n"
   ]
  },
  {
   "cell_type": "raw",
   "id": "323c5215-0882-4c9f-944f-aaeb28869f6b",
   "metadata": {},
   "source": []
  },
  {
   "cell_type": "raw",
   "id": "044f1250-6d1b-4dfc-8876-21f6a1c90915",
   "metadata": {},
   "source": []
  },
  {
   "cell_type": "markdown",
   "id": "53d92692-b712-44b0-a424-50e6a3657b59",
   "metadata": {},
   "source": [
    "Q4. Why LookupError class is used? Explain with an example KeyError and IndexError."
   ]
  },
  {
   "cell_type": "markdown",
   "id": "36e5bad9-bcd8-4e2c-83e3-3a7874cdbc83",
   "metadata": {},
   "source": [
    "The `LookupError` class in Python is a base class for exceptions that occur when a lookup or indexing operation fails. It serves as a parent class for more specific lookup-related exception classes, such as `KeyError` and `IndexError`.\n",
    "\n",
    "The `KeyError` exception is raised when you try to access a dictionary using a key that doesn't exist in the dictionary. Here's an example:\n",
    "\n",
    "\n",
    "\n"
   ]
  },
  {
   "cell_type": "code",
   "execution_count": 20,
   "id": "9f11ddf2-c2bf-41cf-848b-aeae9b356fce",
   "metadata": {},
   "outputs": [
    {
     "ename": "KeyError",
     "evalue": "'d'",
     "output_type": "error",
     "traceback": [
      "\u001b[0;31m---------------------------------------------------------------------------\u001b[0m",
      "\u001b[0;31mKeyError\u001b[0m                                  Traceback (most recent call last)",
      "Cell \u001b[0;32mIn[20], line 2\u001b[0m\n\u001b[1;32m      1\u001b[0m my_dict \u001b[38;5;241m=\u001b[39m {\u001b[38;5;124m'\u001b[39m\u001b[38;5;124ma\u001b[39m\u001b[38;5;124m'\u001b[39m: \u001b[38;5;241m1\u001b[39m, \u001b[38;5;124m'\u001b[39m\u001b[38;5;124mb\u001b[39m\u001b[38;5;124m'\u001b[39m: \u001b[38;5;241m2\u001b[39m, \u001b[38;5;124m'\u001b[39m\u001b[38;5;124mc\u001b[39m\u001b[38;5;124m'\u001b[39m: \u001b[38;5;241m3\u001b[39m}\n\u001b[0;32m----> 2\u001b[0m \u001b[38;5;28mprint\u001b[39m(\u001b[43mmy_dict\u001b[49m\u001b[43m[\u001b[49m\u001b[38;5;124;43m'\u001b[39;49m\u001b[38;5;124;43md\u001b[39;49m\u001b[38;5;124;43m'\u001b[39;49m\u001b[43m]\u001b[49m)  \u001b[38;5;66;03m# Raises KeyError: 'd' not found in the dictionary\u001b[39;00m\n",
      "\u001b[0;31mKeyError\u001b[0m: 'd'"
     ]
    }
   ],
   "source": [
    "my_dict = {'a': 1, 'b': 2, 'c': 3}\n",
    "print(my_dict['d'])  # Raises KeyError: 'd' not found in the dictionary\n"
   ]
  },
  {
   "cell_type": "markdown",
   "id": "e7ce94f0-0ff3-4403-aac0-d292a1998cc9",
   "metadata": {},
   "source": [
    "In this example, we try to access the key `'d'` in the `my_dict` dictionary. However, since the key doesn't exist in the dictionary, a `KeyError` is raised.\n",
    "\n",
    "On the other hand, the `IndexError` exception is raised when you try to access an index that is out of range in a sequence (such as a list, tuple, or string). Here's an example:\n",
    "\n",
    "\n",
    "\n"
   ]
  },
  {
   "cell_type": "code",
   "execution_count": 21,
   "id": "bd24fcc4-5c38-449f-bec7-7aac7fbca11e",
   "metadata": {},
   "outputs": [
    {
     "ename": "IndexError",
     "evalue": "list index out of range",
     "output_type": "error",
     "traceback": [
      "\u001b[0;31m---------------------------------------------------------------------------\u001b[0m",
      "\u001b[0;31mIndexError\u001b[0m                                Traceback (most recent call last)",
      "Cell \u001b[0;32mIn[21], line 2\u001b[0m\n\u001b[1;32m      1\u001b[0m my_list \u001b[38;5;241m=\u001b[39m [\u001b[38;5;241m1\u001b[39m, \u001b[38;5;241m2\u001b[39m, \u001b[38;5;241m3\u001b[39m]\n\u001b[0;32m----> 2\u001b[0m \u001b[38;5;28mprint\u001b[39m(\u001b[43mmy_list\u001b[49m\u001b[43m[\u001b[49m\u001b[38;5;241;43m3\u001b[39;49m\u001b[43m]\u001b[49m)  \u001b[38;5;66;03m# Raises IndexError: list index out of range\u001b[39;00m\n",
      "\u001b[0;31mIndexError\u001b[0m: list index out of range"
     ]
    }
   ],
   "source": [
    "my_list = [1, 2, 3]\n",
    "print(my_list[3])  # Raises IndexError: list index out of range\n"
   ]
  },
  {
   "cell_type": "markdown",
   "id": "8f042b13-db22-4027-ac70-c330e7a08489",
   "metadata": {},
   "source": [
    "In this example, we try to access the element at index `3` in the `my_list` list. However, since the list has only three elements and the index is out of range, an `IndexError` is raised.\n",
    "\n",
    "Both `KeyError` and `IndexError` are subclasses of `LookupError`. By using the `LookupError` class as the base class, it allows you to catch these specific lookup-related exceptions, as well as any other potential lookup-related exceptions that might be introduced in the future."
   ]
  },
  {
   "cell_type": "raw",
   "id": "4b39f6c6-c5f6-4058-a151-c0cac087cd13",
   "metadata": {},
   "source": []
  },
  {
   "cell_type": "raw",
   "id": "5ada9b7e-c07f-4592-832c-61d78d8eeda4",
   "metadata": {},
   "source": []
  },
  {
   "cell_type": "markdown",
   "id": "81a49383-15d9-4474-8319-fb9d2a600df6",
   "metadata": {},
   "source": [
    "Q5. Explain ImportError. What is ModuleNotFoundError?"
   ]
  },
  {
   "cell_type": "markdown",
   "id": "ff0aaca2-9661-46b4-9220-e2122ce40fa0",
   "metadata": {},
   "source": [
    "The `ImportError` and `ModuleNotFoundError` are both exceptions that can occur when importing modules in Python.\n",
    "\n",
    "`ImportError` is a base class for exceptions related to importing modules. It can be raised for various reasons, such as when a module or package cannot be found, or when there are issues with the imported module's content. \n",
    "\n",
    "\n",
    "\n"
   ]
  },
  {
   "cell_type": "markdown",
   "id": "dcc2dcf8-c4d9-4304-a46a-6e1110f16d3f",
   "metadata": {},
   "source": [
    "\n",
    "\n",
    "`ModuleNotFoundError` is a more specific subclass of `ImportError` introduced in Python 3.6. It is raised when a module or package cannot be found during import. Here's an example:\n",
    "\n",
    "\n",
    "\n"
   ]
  },
  {
   "cell_type": "code",
   "execution_count": 25,
   "id": "29042572-3c3a-4358-9858-d3cafb11ff5e",
   "metadata": {},
   "outputs": [
    {
     "ename": "ModuleNotFoundError",
     "evalue": "No module named 'anand'",
     "output_type": "error",
     "traceback": [
      "\u001b[0;31m---------------------------------------------------------------------------\u001b[0m",
      "\u001b[0;31mModuleNotFoundError\u001b[0m                       Traceback (most recent call last)",
      "Cell \u001b[0;32mIn[25], line 1\u001b[0m\n\u001b[0;32m----> 1\u001b[0m \u001b[38;5;28;01mimport\u001b[39;00m \u001b[38;5;21;01manand\u001b[39;00m\n",
      "\u001b[0;31mModuleNotFoundError\u001b[0m: No module named 'anand'"
     ]
    }
   ],
   "source": [
    "import anand"
   ]
  },
  {
   "cell_type": "markdown",
   "id": "bb492a8b-ff06-40c2-afa1-6de4f026f871",
   "metadata": {},
   "source": [
    "In this example, we catch the `ModuleNotFoundError` specifically. If the `non_existent_module` cannot be found during import, the exception is raised, and we print a message indicating that the module is not found.\n",
    "\n",
    "The introduction of `ModuleNotFoundError` in Python 3.6 provides a more specific exception for cases where the module itself cannot be located. Prior to Python 3.6, an `ImportError` would be raised for both missing modules and other import-related issues."
   ]
  },
  {
   "cell_type": "raw",
   "id": "8e7de04a-727e-498a-a988-466820448671",
   "metadata": {},
   "source": []
  },
  {
   "cell_type": "raw",
   "id": "d1dedaa0-57ba-4970-b0aa-3cb7e9abf870",
   "metadata": {},
   "source": []
  },
  {
   "cell_type": "markdown",
   "id": "b0e476f2-fb5a-49be-8e9b-fa5ac83823ff",
   "metadata": {},
   "source": [
    "Q6. List down some best practices for exception handling in python."
   ]
  },
  {
   "cell_type": "markdown",
   "id": "4b2a1bec-a6fc-40f7-b256-c8a8a631c5d2",
   "metadata": {},
   "source": [
    "\n",
    "\n",
    "1. Use specific exception types: Catch specific exceptions instead of using a generic `Exception` class. This allows you to handle different types of exceptions differently and provides better clarity and maintainability.\n",
    "\n",
    "2. Use `try-except` blocks only where necessary: Place `try-except` blocks around specific statements or operations that are prone to exceptions. Avoid wrapping large blocks of code with `try-except` if only a small portion of the code can raise an exception.\n",
    "\n",
    "3. Avoid bare `except` statements: Avoid using `except` without specifying the exception type. This can hide errors and make debugging difficult. Instead, catch only the specific exceptions you expect and handle them appropriately.\n",
    "\n",
    "4. Use `finally` blocks for cleanup: Use the `finally` block to ensure that cleanup code (e.g., closing files or releasing resources) executes, regardless of whether an exception occurred or not.\n",
    "\n",
    "5. Handle exceptions gracefully: Provide meaningful error messages and handle exceptions in a way that gracefully handles errors for the user. Displaying informative error messages and logging exceptions can aid in troubleshooting and debugging.\n",
    "\n",
    "6. Don't ignore exceptions silently: Avoid ignoring exceptions without any action or logging. Even if you cannot handle an exception at a particular point, consider logging the exception for future reference.\n",
    "\n",
    "7. Avoid excessive nesting of `try-except` blocks: Excessive nesting can make the code harder to read and understand. Consider refactoring code to reduce unnecessary nesting and improve readability.\n",
    "\n",
    "8. Use context managers (`with` statement): Whenever possible, use context managers (implemented using the `with` statement) to automatically handle resource allocation and cleanup. It ensures that resources are properly released, even in the presence of exceptions.\n",
    "\n",
    "9. Reraise exceptions selectively: If you catch an exception but cannot handle it effectively, consider reraising it using `raise` without any arguments. This allows exceptions to propagate up the call stack while maintaining the original exception's traceback.\n",
    "\n",
    "10. Test exception handling: Include thorough testing of exception handling scenarios in your test suite. Ensure that the code behaves as expected when exceptions occur, and verify that the appropriate exceptions are raised and handled correctly.\n",
    "\n",
    "By following these best practices, you can improve the robustness, maintainability, and readability of your code when it comes to exception handling in Python."
   ]
  },
  {
   "cell_type": "code",
   "execution_count": null,
   "id": "5edbe58b-cb63-4cf7-8a73-aba1509d5bed",
   "metadata": {},
   "outputs": [],
   "source": []
  }
 ],
 "metadata": {
  "kernelspec": {
   "display_name": "Python 3 (ipykernel)",
   "language": "python",
   "name": "python3"
  },
  "language_info": {
   "codemirror_mode": {
    "name": "ipython",
    "version": 3
   },
   "file_extension": ".py",
   "mimetype": "text/x-python",
   "name": "python",
   "nbconvert_exporter": "python",
   "pygments_lexer": "ipython3",
   "version": "3.10.8"
  }
 },
 "nbformat": 4,
 "nbformat_minor": 5
}
